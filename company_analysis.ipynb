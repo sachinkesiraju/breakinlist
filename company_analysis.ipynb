{
 "cells": [
  {
   "cell_type": "code",
   "execution_count": 1,
   "metadata": {
    "collapsed": false
   },
   "outputs": [
    {
     "name": "stdout",
     "output_type": "stream",
     "text": [
      "SpaceX | $1,495,560,000 | 1001-5000 | 0.299\n",
      "BuzzFeed | $496,300,000 | 501-1000 | 0.496\n",
      "Uber | $8,812,450,000 | 5001-10000 | 0.89\n",
      "HubSpot | $100,500,000 | 501-1000 | 0.101\n",
      "DJI | $105,000,000 |  | 0.009\n",
      "Symantec | $503,000,000 | 10001+ | 0.05\n",
      "Redfin | $167,820,000 | 501-1000 | 0.168\n",
      "GrubHub | $84,100,000 | 501-1000 | 0.084\n",
      "Flipkart | $7,122,140,000 | 10001+ | 0.712\n",
      "Yelp | $56,000,000 | 501-1000 | 0.056\n",
      "WeWork | $9,853,784,331 | 501-1000 | 9.854\n",
      "Databricks | $247,000,000 | 101-250 | 0.988\n",
      "ThoughtSpot | $150,700,000 | 101-250 | 0.603\n",
      "Hyperloop One | $141,100,000 | 101-250 | 0.564\n",
      "Groupon | $1,387,000,000 | 1001-5000 | 0.277\n",
      "Impossible Foods | $257,000,000 | 101-250 | 1.028\n",
      "Lyft | $2,612,500,000 | 1001-5000 | 0.528\n",
      "Outbrain | $194,000,000 | 501-1000 | 0.19\n",
      "TuneIn | $103,122,231 | 51-100 | 1.031\n",
      "Zillow | $96,627,980 | 1001-5000 | 0.019\n"
     ]
    }
   ],
   "source": [
    "import csv\n",
    "import locale\n",
    "import time\n",
    "from datetime import datetime\n",
    "\n",
    "locale.setlocale(locale.LC_ALL, '')\n",
    "timeFactor = lambda x: round(1 + 0.03714286*float(x) - 0.04285714*pow(x, 2), 2)\n",
    "\n",
    "def yearsFromDate(dateString):\n",
    "    date = datetime.strptime(dateString, \"%m/%d/%Y\")\n",
    "    diff = datetime.utcnow() - date \n",
    "    return round(diff.days / 365, 2)\n",
    "\n",
    "def getNumEmployees(employeesString):\n",
    "    if '+' in employeesString:\n",
    "        return employeesString[:employeesString.index('+')]\n",
    "    return employeesString[employeesString.index('-') + 1:] if '-' in employeesString else \"10000\"\n",
    "\n",
    "with open ('new_companies.csv', 'r') as file:\n",
    "    reader = csv.DictReader(file)\n",
    "    companies = [row for row in reader]\n",
    "for company in companies:\n",
    "    status = company['Last Funding Type'] if company['Status'] != 'IPO' else company['Status']\n",
    "    time_weight = timeFactor(yearsFromDate(company['Last Funding Date'])) if status != 'IPO' else 1\n",
    "    total_funding = round(locale.atof(company['Total Equity Funding Amount'][1:])/1000000, 2)\n",
    "    num_employees = int(getNumEmployees(company['Number of Employees']))\n",
    "    score = round(total_funding * time_weight / num_employees, 3)\n",
    "    company['Score'] = str(score)\n",
    "    \n",
    "for company in companies[:20]:\n",
    "    print(company['Company Name'] + \" | \" + company['Total Equity Funding Amount'] + \" | \" + company['Number of Employees'] + \" | \" + company['Score'])"
   ]
  },
  {
   "cell_type": "code",
   "execution_count": 2,
   "metadata": {
    "collapsed": false
   },
   "outputs": [
    {
     "name": "stdout",
     "output_type": "stream",
     "text": [
      "Ele.me | $3,335,000,000 | 11-50 | 67.367\n",
      "Filecoin | $252,120,000 | 1-10 | 25.212\n",
      "Jiuxian.com | $249,963,505 | 1-10 | 22.246\n",
      "Wish | $1,078,700,000 | 11-50 | 21.574\n",
      "Expa | $150,000,000 | 1-10 | 14.55\n",
      "Ionic Security | $122,440,001 | 1-10 | 11.999\n",
      "WeWork | $9,853,784,331 | 501-1000 | 9.854\n",
      "ARMO BioSciences | $100,000,000 | 1-10 | 9.5\n",
      "Genalyte | $91,800,000 | 1-10 | 9.18\n",
      "Calient Technologies | $405,118,814 | 11-50 | 8.021\n",
      "Forty Seven | $75,000,000 | 1-10 | 7.2\n",
      "Dailyhunt | $66,643,163 | 1-10 | 6.664\n",
      "PPDai | $70,200,000 | 1-10 | 5.897\n",
      "Guardant Health | $550,000,000 | 51-100 | 5.555\n",
      "Mobvoi Inc. | $252,720,178 | 11-50 | 5.105\n",
      "Kabbage | $488,650,000 | 51-100 | 4.886\n",
      "AirMap | $43,600,000 | 1-10 | 4.404\n",
      "Desktop Metal | $211,760,835 | 11-50 | 4.235\n",
      "Editas Medicine | $210,000,000 | 11-50 | 4.2\n",
      "Katerra | $205,573,028 | 11-50 | 4.153\n"
     ]
    }
   ],
   "source": [
    "companies.sort(key=lambda x: float(x['Score']), reverse=True)\n",
    "for company in companies[:20]:\n",
    "    print(company['Company Name'] + \" | \" + company['Total Equity Funding Amount'] + \" | \" + company['Number of Employees'] + \" | \" + company['Score'])"
   ]
  },
  {
   "cell_type": "code",
   "execution_count": 3,
   "metadata": {
    "collapsed": false
   },
   "outputs": [
    {
     "name": "stdout",
     "output_type": "stream",
     "text": [
      "Wish | $1,078,700,000 | 11-50 | 21.574\n",
      "Expa | $150,000,000 | 1-10 | 14.55\n",
      "Digit | $36,300,000 | 1-10 | 3.557\n",
      "Pinterest | $1,466,100,000 | 251-500 | 2.962\n",
      "Instacart | $674,800,000 | 101-250 | 2.726\n",
      "Instabase | $26,970,000 | 1-10 | 2.724\n",
      "Autonomic Technologies | $136,200,000 | 11-50 | 2.561\n",
      "Vicarious | $122,000,000 | 11-50 | 2.44\n",
      "Mavrx | $22,420,781 | 1-10 | 2.242\n",
      "Airware | $109,550,000 | 11-50 | 2.213\n",
      "Invuity | $106,999,999 | 11-50 | 2.14\n",
      "Amitree | $19,828,000 | 1-10 | 1.983\n",
      "SoFi | $1,878,226,991 | 501-1000 | 1.897\n",
      "Affirm | $420,000,000 | 101-250 | 1.68\n",
      "Chatous | $18,100,000 | 1-10 | 1.629\n",
      "Discord | $79,300,000 | 11-50 | 1.602\n",
      "Freenome | $77,550,000 | 11-50 | 1.551\n",
      "Five Prime Therapeutics | $155,040,487 | 51-100 | 1.55\n",
      "Anki | $157,500,000 | 51-100 | 1.543\n",
      "FLX Bio | $79,000,000 | 11-50 | 1.533\n"
     ]
    }
   ],
   "source": [
    "sf_startups = [company for company in companies if 'San Francisco, California, United States' in company['Headquarters Location']]\n",
    "for company in sf_startups[:20]:\n",
    "    print(company['Company Name'] + \" | \" + company['Total Equity Funding Amount'] + \" | \" + company['Number of Employees'] + \" | \" + company['Score'])"
   ]
  },
  {
   "cell_type": "code",
   "execution_count": 4,
   "metadata": {
    "collapsed": false
   },
   "outputs": [
    {
     "name": "stdout",
     "output_type": "stream",
     "text": [
      "PPDai | $70,200,000 | 1-10 | 5.897\n",
      "Kabbage | $488,650,000 | 51-100 | 4.886\n",
      "Cadre | $133,300,000 | 11-50 | 2.693\n",
      "Blockstream | $126,000,000 | 11-50 | 2.394\n",
      "BlueVine | $113,000,000 | 11-50 | 2.283\n",
      "Samlino.dk | $20,463,040 | 1-10 | 2.026\n",
      "Wealthfront | $129,500,000 | 11-50 | 1.968\n",
      "SoFi | $1,878,226,991 | 501-1000 | 1.897\n",
      "Robinhood | $176,000,000 | 51-100 | 1.778\n",
      "Affirm | $420,000,000 | 101-250 | 1.68\n",
      "Behalf | $156,000,000 | 51-100 | 1.544\n",
      "Blockchain | $70,000,000 | 11-50 | 1.414\n",
      "Hyper Anna | $13,644,766 | 1-10 | 1.364\n",
      "Circle | $136,000,000 | 51-100 | 1.333\n",
      "Trumid Financial | $54,250,000 | 11-50 | 1.085\n",
      "VoloAgri Group | $116,592,000 | 51-100 | 1.061\n",
      "Fundbox | $107,500,000 | 51-100 | 0.978\n",
      "Quantopian | $48,800,000 | 11-50 | 0.976\n",
      "PLASTIQ | $45,349,996 | 11-50 | 0.907\n",
      "Veem | $44,250,000 | 11-50 | 0.894\n"
     ]
    }
   ],
   "source": [
    "fintech_startups = [company for company in companies if 'FinTech' in company['Categories']]\n",
    "for company in fintech_startups[:20]:\n",
    "    print(company['Company Name'] + \" | \" + company['Total Equity Funding Amount'] + \" | \" + company['Number of Employees'] + \" | \" + company['Score'])"
   ]
  },
  {
   "cell_type": "code",
   "execution_count": 5,
   "metadata": {
    "collapsed": false
   },
   "outputs": [
    {
     "name": "stdout",
     "output_type": "stream",
     "text": [
      "Ele.me | $3,335,000,000 | 11-50 | 67.367\n",
      "Filecoin | $252,120,000 | 1-10 | 25.212\n",
      "Jiuxian.com | $249,963,505 | 1-10 | 22.246\n",
      "Wish | $1,078,700,000 | 11-50 | 21.574\n",
      "Expa | $150,000,000 | 1-10 | 14.55\n",
      "Ionic Security | $122,440,001 | 1-10 | 11.999\n",
      "WeWork | $9,853,784,331 | 501-1000 | 9.854\n",
      "Calient Technologies | $405,118,814 | 11-50 | 8.021\n",
      "Dailyhunt | $66,643,163 | 1-10 | 6.664\n",
      "PPDai | $70,200,000 | 1-10 | 5.897\n",
      "Mobvoi Inc. | $252,720,178 | 11-50 | 5.105\n",
      "Kabbage | $488,650,000 | 51-100 | 4.886\n",
      "AirMap | $43,600,000 | 1-10 | 4.404\n",
      "Desktop Metal | $211,760,835 | 11-50 | 4.235\n",
      "Katerra | $205,573,028 | 11-50 | 4.153\n",
      "Digit | $36,300,000 | 1-10 | 3.557\n",
      "Go-Jek | $1,750,000,000 | 251-500 | 3.535\n",
      "Nauto, Inc. | $173,850,000 | 11-50 | 3.477\n",
      "cheddar | $32,000,000 | 1-10 | 3.232\n",
      "Pinterest | $1,466,100,000 | 251-500 | 2.962\n"
     ]
    }
   ],
   "source": [
    "non_biotech_companies = [company for company in companies if 'Biotechnology' not in company['Categories']]\n",
    "for company in non_biotech_companies[:20]:\n",
    "    print(company['Company Name'] + \" | \" + company['Total Equity Funding Amount'] + \" | \" + company['Number of Employees'] + \" | \" + company['Score'])"
   ]
  },
  {
   "cell_type": "code",
   "execution_count": 6,
   "metadata": {
    "collapsed": false
   },
   "outputs": [
    {
     "name": "stdout",
     "output_type": "stream",
     "text": [
      "Wish | $1,078,700,000 | 11-50 | 21.574\n",
      "Expa | $150,000,000 | 1-10 | 14.55\n",
      "Nauto, Inc. | $173,850,000 | 11-50 | 3.477\n",
      "Skydio | $28,000,000 | 1-10 | 2.632\n",
      "Joya Communications | $25,000,000 | 1-10 | 2.5\n",
      "ooma | $95,432,819 | 11-50 | 1.909\n",
      "Robinhood | $176,000,000 | 51-100 | 1.778\n",
      "Onshape | $169,000,000 | 51-100 | 1.639\n",
      "AOptix Technologies | $188,722,849 | 51-100 | 1.623\n",
      "Discord | $79,300,000 | 11-50 | 1.602\n",
      "Houseparty | $73,200,000 | 11-50 | 1.464\n",
      "PayRange | $14,750,000 | 1-10 | 1.298\n",
      "Zeel | $13,200,000 | 1-10 | 1.28\n",
      "Mast Mobile | $12,400,000 | 1-10 | 1.153\n",
      "Branch | $113,050,000 | 51-100 | 1.142\n",
      "Diffbot | $12,000,000 | 1-10 | 1.14\n",
      "AISense Inc. | $11,200,000 | 1-10 | 1.131\n",
      "Jawbone | $590,799,995 | 251-500 | 1.123\n",
      "TuneIn | $103,122,231 | 51-100 | 1.031\n",
      "Getaround | $101,299,999 | 51-100 | 1.023\n"
     ]
    }
   ],
   "source": [
    "mobile_startups = [company for company in companies if 'Mobile' in company['Category Groups'] and 'United States' in company['Headquarters Location']]\n",
    "for company in mobile_startups[:20]:\n",
    "    print(company['Company Name'] + \" | \" + company['Total Equity Funding Amount'] + \" | \" + company['Number of Employees'] + \" | \" + company['Score'])"
   ]
  },
  {
   "cell_type": "code",
   "execution_count": 7,
   "metadata": {
    "collapsed": false
   },
   "outputs": [
    {
     "name": "stdout",
     "output_type": "stream",
     "text": [
      "Wish | $1,078,700,000 | 11-50 | 21.574\n",
      "Mobvoi Inc. | $252,720,178 | 11-50 | 5.105\n",
      "AirMap | $43,600,000 | 1-10 | 4.404\n",
      "Instabase | $26,970,000 | 1-10 | 2.724\n",
      "Vicarious | $122,000,000 | 11-50 | 2.44\n",
      "Mavrx | $22,420,781 | 1-10 | 2.242\n",
      "CYNGN | $115,000,000 | 11-50 | 1.932\n",
      "Farmers Business Network | $83,900,000 | 11-50 | 1.695\n",
      "AOptix Technologies | $188,722,849 | 51-100 | 1.623\n",
      "Orbital Insight, Inc. | $78,700,000 | 11-50 | 1.59\n",
      "Anki | $157,500,000 | 51-100 | 1.543\n",
      "Color Genomics | $150,548,112 | 51-100 | 1.506\n",
      "Hyper Anna | $13,644,766 | 1-10 | 1.364\n",
      "Lemonade | $60,000,000 | 11-50 | 1.212\n",
      "Branch | $113,050,000 | 51-100 | 1.142\n",
      "Versive | $57,000,000 | 11-50 | 1.14\n",
      "Diffbot | $12,000,000 | 1-10 | 1.14\n",
      "Elastifile | $58,000,000 | 11-50 | 1.137\n",
      "Cockroach Labs | $53,500,000 | 11-50 | 1.081\n",
      "Genius | $56,900,000 | 11-50 | 1.058\n"
     ]
    }
   ],
   "source": [
    "data_startups = [company for company in companies if 'Data and Analytics' in company['Category Groups']]\n",
    "for company in data_startups[:20]:\n",
    "    print(company['Company Name'] + \" | \" + company['Total Equity Funding Amount'] + \" | \" + company['Number of Employees'] + \" | \" + company['Score'])"
   ]
  },
  {
   "cell_type": "code",
   "execution_count": 8,
   "metadata": {
    "collapsed": false
   },
   "outputs": [
    {
     "name": "stdout",
     "output_type": "stream",
     "text": [
      "WeWork | $9,853,784,331 | 501-1000 | 9.854\n",
      "cheddar | $32,000,000 | 1-10 | 3.232\n",
      "Cadre | $133,300,000 | 11-50 | 2.693\n",
      "Casper | $239,700,000 | 51-100 | 2.421\n",
      "Common | $23,350,000 | 1-10 | 2.288\n",
      "Spring Inc | $97,500,000 | 11-50 | 1.969\n",
      "Peloton | $444,707,000 | 101-250 | 1.797\n",
      "Blink Health | $165,000,000 | 51-100 | 1.667\n",
      "Behalf | $156,000,000 | 51-100 | 1.544\n",
      "letgo | $375,000,000 | 101-250 | 1.515\n",
      "Giphy | $150,949,998 | 51-100 | 1.509\n",
      "Oscar | $727,500,000 | 251-500 | 1.397\n",
      "Beeswax | $13,300,000 | 1-10 | 1.33\n",
      "Zeel | $13,200,000 | 1-10 | 1.28\n",
      "Lemonade | $60,000,000 | 11-50 | 1.212\n",
      "MakeSpace | $57,600,000 | 11-50 | 1.164\n",
      "Mast Mobile | $12,400,000 | 1-10 | 1.153\n",
      "Trumid Financial | $54,250,000 | 11-50 | 1.085\n",
      "Cockroach Labs | $53,500,000 | 11-50 | 1.081\n",
      "Genius | $56,900,000 | 11-50 | 1.058\n"
     ]
    }
   ],
   "source": [
    "nyc_startups = [company for company in companies if 'New York' in company['Headquarters Location']]\n",
    "for company in nyc_startups[:20]:\n",
    "    print(company['Company Name'] + \" | \" + company['Total Equity Funding Amount'] + \" | \" + company['Number of Employees'] + \" | \" + company['Score'])"
   ]
  }
 ],
 "metadata": {
  "anaconda-cloud": {},
  "kernelspec": {
   "display_name": "Python 3",
   "language": "python",
   "name": "python3"
  },
  "language_info": {
   "codemirror_mode": {
    "name": "ipython",
    "version": 3
   },
   "file_extension": ".py",
   "mimetype": "text/x-python",
   "name": "python",
   "nbconvert_exporter": "python",
   "pygments_lexer": "ipython3",
   "version": "3.4.5"
  }
 },
 "nbformat": 4,
 "nbformat_minor": 0
}

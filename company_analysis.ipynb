{
 "cells": [
  {
   "cell_type": "code",
   "execution_count": 13,
   "metadata": {
    "collapsed": false
   },
   "outputs": [
    {
     "name": "stdout",
     "output_type": "stream",
     "text": [
      "Twitter | $1,460,166,511 | 1001-5000 | 0.292\n",
      "Flipkart | $4,622,140,000 | 10001+ | 0.462\n",
      "Pinterest | $1,466,100,000 | 251-500 | 2.932\n",
      "Ola | $1,716,942,518 | 1001-5000 | 0.343\n",
      "Blue Apron | $193,800,000 | 501-1000 | 0.194\n",
      "SpaceX | $1,145,560,000 | 1001-5000 | 0.19\n",
      "Razer | $175,000,000 | 501-1000 | 0.175\n",
      "Pandora | $694,000,000 | 1001-5000 | 0.139\n",
      "BuzzFeed | $496,300,000 | 501-1000 | 0.501\n",
      "Coinbase | $117,209,590 | 101-250 | 0.464\n",
      "Klarna | $411,846,585 | 1001-5000 | 0.082\n",
      "Facebook | $2,335,700,000 | 10001+ | 0.234\n",
      "Cloudflare | $182,050,000 | 251-500 | 0.339\n",
      "ServiceNow | $83,703,892 | 1001-5000 | 0.017\n",
      "Houzz | $613,600,000 | 1001-5000 | 0.123\n",
      "Elastic | $104,000,000 | 501-1000 | 0.074\n",
      "Uber | $11,562,450,000 | 5001-10000 | 1.168\n",
      "Zomato | $243,800,000 | 1001-5000 | 0.049\n",
      "AngelList | $24,100,000 | 11-50 | 0.255\n",
      "Coursera | $210,100,000 | 101-250 | 0.84\n"
     ]
    }
   ],
   "source": [
    "import csv\n",
    "import locale\n",
    "import time\n",
    "from datetime import datetime\n",
    "\n",
    "locale.setlocale(locale.LC_ALL, '')\n",
    "timeFactor = lambda x: round(1 + 0.03714286*float(x) - 0.04285714*pow(x, 2), 2)\n",
    "\n",
    "def yearsFromDate(dateString):\n",
    "    date = datetime.strptime(dateString, \"%m/%d/%Y\")\n",
    "    diff = datetime.utcnow() - date \n",
    "    return round(diff.days / 365, 2)\n",
    "\n",
    "def getNumEmployees(employeesString):\n",
    "    if '+' in employeesString:\n",
    "        return employeesString[:employeesString.index('+')]\n",
    "    return employeesString[employeesString.index('-') + 1:] if '-' in employeesString else \"10000\"\n",
    "\n",
    "with open ('companies.csv', 'r') as file:\n",
    "    reader = csv.DictReader(file)\n",
    "    companies = [row for row in reader]\n",
    "for company in companies:\n",
    "    status = company['Last Funding Type'] if company['Status'] != 'IPO' else company['Status']\n",
    "    time_weight = timeFactor(yearsFromDate(company['Last Funding Date'])) if status != 'IPO' else 1\n",
    "    total_funding = round(locale.atof(company['Total Funding Amount'][1:])/1000000, 2)\n",
    "    num_employees = int(getNumEmployees(company['Number of Employees']))\n",
    "    score = round(total_funding * time_weight / num_employees, 3)\n",
    "    company['Score'] = str(score)\n",
    "    \n",
    "for company in companies[:20]:\n",
    "    print(company['Company Name'] + \" | \" + company['Total Funding Amount'] + \" | \" + company['Number of Employees'] + \" | \" + company['Score'])"
   ]
  },
  {
   "cell_type": "code",
   "execution_count": 15,
   "metadata": {
    "collapsed": false
   },
   "outputs": [
    {
     "name": "stdout",
     "output_type": "stream",
     "text": [
      "Ele.me | $3,335,000,000 | 11-50 | 66.7\n",
      "Jiuxian.com | $363,795,811 | 1-10 | 33.106\n",
      "Wish | $1,078,700,000 | 11-50 | 21.79\n",
      "Expa | $150,000,000 | 1-10 | 14.7\n",
      "Qihoo 360 Technology | $645,000,000 | 11-50 | 12.9\n",
      "CRISPR Therapeutics | $127,000,000 | 1-10 | 12.7\n",
      "Ionic Security | $122,440,001 | 1-10 | 12.122\n",
      "VytronUS | $115,377,963 | 1-10 | 11.538\n",
      "Annexon Biosciences | $112,999,999 | 1-10 | 11.187\n",
      "Kabbage | $1,100,363,500 | 51-100 | 11.114\n",
      "Mirna Therapeutics | $109,897,000 | 1-10 | 10.99\n",
      "ARMO BioSciences | $100,000,000 | 1-10 | 9.7\n",
      "Genalyte | $91,800,000 | 1-10 | 9.272\n",
      "Bond Street | $411,500,000 | 11-50 | 8.312\n",
      "Millendo Therapeutics | $86,522,872 | 1-10 | 8.306\n",
      "Calient Technologies | $405,118,814 | 11-50 | 8.102\n",
      "Forty Seven | $75,000,000 | 1-10 | 7.275\n",
      "Social Finance | $398,000,000 | 11-50 | 6.686\n",
      "Dailyhunt | $66,643,163 | 1-10 | 6.664\n",
      "PPDai | $70,200,000 | 1-10 | 6.107\n"
     ]
    }
   ],
   "source": [
    "companies.sort(key=lambda x: float(x['Score']), reverse=True)\n",
    "for company in companies[:20]:\n",
    "    print(company['Company Name'] + \" | \" + company['Total Funding Amount'] + \" | \" + company['Number of Employees'] + \" | \" + company['Score'])"
   ]
  },
  {
   "cell_type": "code",
   "execution_count": 16,
   "metadata": {
    "collapsed": false
   },
   "outputs": [
    {
     "name": "stdout",
     "output_type": "stream",
     "text": [
      "Wish | $1,078,700,000 | 11-50 | 21.79\n",
      "Expa | $150,000,000 | 1-10 | 14.7\n",
      "Annexon Biosciences | $112,999,999 | 1-10 | 11.187\n",
      "Digit | $36,300,000 | 1-10 | 3.594\n",
      "Pinterest | $1,466,100,000 | 251-500 | 2.932\n",
      "Instacart | $674,800,000 | 101-250 | 2.726\n",
      "Instabase | $26,970,000 | 1-10 | 2.697\n",
      "Velano Vascular | $26,200,000 | 1-10 | 2.646\n",
      "Autonomic Technologies | $136,200,000 | 11-50 | 2.615\n",
      "Mavrx | $22,420,781 | 1-10 | 2.242\n",
      "Airware | $109,550,000 | 11-50 | 2.213\n",
      "Invuity | $106,999,999 | 11-50 | 2.14\n",
      "SoFi | $2,079,226,991 | 501-1000 | 2.1\n",
      "Affirm | $520,000,000 | 101-250 | 2.08\n",
      "Jawbone | $983,799,995 | 251-500 | 1.889\n",
      "Chatous | $18,100,000 | 1-10 | 1.665\n",
      "Discord | $79,300,000 | 11-50 | 1.586\n",
      "Anki | $157,500,000 | 51-100 | 1.559\n",
      "Five Prime Therapeutics | $155,040,487 | 51-100 | 1.55\n",
      "FLX Bio | $79,000,000 | 11-50 | 1.548\n"
     ]
    }
   ],
   "source": [
    "sf_startups = [company for company in companies if 'San Francisco, California, United States' in company['Headquarters Location']]\n",
    "for company in sf_startups[:20]:\n",
    "    print(company['Company Name'] + \" | \" + company['Total Funding Amount'] + \" | \" + company['Number of Employees'] + \" | \" + company['Score'])"
   ]
  },
  {
   "cell_type": "code",
   "execution_count": 17,
   "metadata": {
    "collapsed": false
   },
   "outputs": [
    {
     "name": "stdout",
     "output_type": "stream",
     "text": [
      "Kabbage | $1,100,363,500 | 51-100 | 11.114\n",
      "Bond Street | $411,500,000 | 11-50 | 8.312\n",
      "PPDai | $70,200,000 | 1-10 | 6.107\n",
      "BlueVine | $188,000,000 | 11-50 | 3.798\n",
      "Cadre | $133,300,000 | 11-50 | 2.666\n",
      "ZestFinance | $262,000,000 | 51-100 | 2.62\n",
      "Able Lending | $112,500,000 | 11-50 | 2.25\n",
      "SoFi | $2,079,226,991 | 501-1000 | 2.1\n",
      "Affirm | $520,000,000 | 101-250 | 2.08\n",
      "Wealthfront | $129,500,000 | 11-50 | 2.046\n",
      "Samlino.dk | $20,463,040 | 1-10 | 2.046\n",
      "Robinhood | $176,000,000 | 51-100 | 1.778\n",
      "Avant | $1,779,000,000 | 501-1000 | 1.654\n",
      "Behalf | $156,000,000 | 51-100 | 1.56\n",
      "Blockstream | $76,000,000 | 11-50 | 1.474\n",
      "LendUp | $361,500,000 | 101-250 | 1.446\n",
      "Blockchain | $70,000,000 | 11-50 | 1.4\n",
      "Circle | $136,000,000 | 51-100 | 1.346\n",
      "CAN Capital | $744,500,000 | 251-500 | 1.295\n",
      "Plaid | $59,300,000 | 11-50 | 1.174\n"
     ]
    }
   ],
   "source": [
    "fintech_startups = [company for company in companies if 'FinTech' in company['Categories']]\n",
    "for company in fintech_startups[:20]:\n",
    "    print(company['Company Name'] + \" | \" + company['Total Funding Amount'] + \" | \" + company['Number of Employees'] + \" | \" + company['Score'])"
   ]
  },
  {
   "cell_type": "code",
   "execution_count": 18,
   "metadata": {
    "collapsed": false
   },
   "outputs": [
    {
     "name": "stdout",
     "output_type": "stream",
     "text": [
      "Ele.me | $3,335,000,000 | 11-50 | 66.7\n",
      "Jiuxian.com | $363,795,811 | 1-10 | 33.106\n",
      "Wish | $1,078,700,000 | 11-50 | 21.79\n",
      "Expa | $150,000,000 | 1-10 | 14.7\n",
      "Qihoo 360 Technology | $645,000,000 | 11-50 | 12.9\n",
      "Ionic Security | $122,440,001 | 1-10 | 12.122\n",
      "VytronUS | $115,377,963 | 1-10 | 11.538\n",
      "Kabbage | $1,100,363,500 | 51-100 | 11.114\n",
      "Bond Street | $411,500,000 | 11-50 | 8.312\n",
      "Calient Technologies | $405,118,814 | 11-50 | 8.102\n",
      "Social Finance | $398,000,000 | 11-50 | 6.686\n",
      "Dailyhunt | $66,643,163 | 1-10 | 6.664\n",
      "PPDai | $70,200,000 | 1-10 | 6.107\n",
      "Mobvoi Inc. | $252,720,178 | 11-50 | 5.105\n",
      "Amplyx Pharmaceuticals | $50,700,000 | 1-10 | 4.918\n",
      "AirMap | $43,600,000 | 1-10 | 4.404\n",
      "Katerra | $205,573,028 | 11-50 | 4.153\n",
      "EarLens | $198,677,074 | 11-50 | 3.974\n",
      "BlueVine | $188,000,000 | 11-50 | 3.798\n",
      "Digit | $36,300,000 | 1-10 | 3.594\n"
     ]
    }
   ],
   "source": [
    "non_biotech_companies = [company for company in companies if 'Biotechnology' not in company['Categories']]\n",
    "for company in non_biotech_companies[:20]:\n",
    "    print(company['Company Name'] + \" | \" + company['Total Funding Amount'] + \" | \" + company['Number of Employees'] + \" | \" + company['Score'])"
   ]
  },
  {
   "cell_type": "code",
   "execution_count": 19,
   "metadata": {
    "collapsed": false
   },
   "outputs": [
    {
     "name": "stdout",
     "output_type": "stream",
     "text": [
      "Wish | $1,078,700,000 | 11-50 | 21.79\n",
      "Expa | $150,000,000 | 1-10 | 14.7\n",
      "Skydio | $28,000,000 | 1-10 | 2.688\n",
      "Joya Communications | $25,000,000 | 1-10 | 2.525\n",
      "ooma | $98,432,819 | 11-50 | 1.969\n",
      "Jawbone | $983,799,995 | 251-500 | 1.889\n",
      "Robinhood | $176,000,000 | 51-100 | 1.778\n",
      "AOptix Technologies | $188,722,849 | 51-100 | 1.661\n",
      "Onshape | $169,000,000 | 51-100 | 1.656\n",
      "Discord | $79,300,000 | 11-50 | 1.586\n",
      "NextNav | $157,934,496 | 51-100 | 1.579\n",
      "Houseparty | $73,200,000 | 11-50 | 1.479\n",
      "Spine Wave | $140,150,000 | 51-100 | 1.387\n",
      "PayRange | $15,155,067 | 1-10 | 1.364\n",
      "Zeel | $13,200,000 | 1-10 | 1.294\n",
      "Uber | $11,562,450,000 | 5001-10000 | 1.168\n",
      "Branch | $113,050,000 | 51-100 | 1.142\n",
      "Getaround | $103,024,999 | 51-100 | 1.041\n",
      "Zugata | $10,200,000 | 1-10 | 1.03\n",
      "Getable | $10,766,774 | 1-10 | 0.915\n"
     ]
    }
   ],
   "source": [
    "mobile_startups = [company for company in companies if 'Mobile' in company['Category Groups'] and 'United States' in company['Headquarters Location']]\n",
    "for company in mobile_startups[:20]:\n",
    "    print(company['Company Name'] + \" | \" + company['Total Funding Amount'] + \" | \" + company['Number of Employees'] + \" | \" + company['Score'])"
   ]
  },
  {
   "cell_type": "code",
   "execution_count": 20,
   "metadata": {
    "collapsed": false
   },
   "outputs": [
    {
     "name": "stdout",
     "output_type": "stream",
     "text": [
      "Wish | $1,078,700,000 | 11-50 | 21.79\n",
      "Mobvoi Inc. | $252,720,178 | 11-50 | 5.105\n",
      "AirMap | $43,600,000 | 1-10 | 4.404\n",
      "Instabase | $26,970,000 | 1-10 | 2.697\n",
      "ZestFinance | $262,000,000 | 51-100 | 2.62\n",
      "Mavrx | $22,420,781 | 1-10 | 2.242\n",
      "CYNGN | $115,000,000 | 11-50 | 1.978\n",
      "Farmers Business Network | $83,900,000 | 11-50 | 1.695\n",
      "AOptix Technologies | $188,722,849 | 51-100 | 1.661\n",
      "Orbital Insight, Inc. | $78,700,000 | 11-50 | 1.59\n",
      "Anki | $157,500,000 | 51-100 | 1.559\n",
      "Vicarious | $72,000,000 | 11-50 | 1.325\n",
      "Solarflare Communications | $304,989,098 | 101-250 | 1.232\n",
      "Pluribus Networks | $116,000,000 | 51-100 | 1.172\n",
      "Metamarkets | $57,750,000 | 11-50 | 1.155\n",
      "Elastifile | $58,000,000 | 11-50 | 1.148\n",
      "Branch | $113,050,000 | 51-100 | 1.142\n",
      "3VR | $64,567,194 | 11-50 | 1.072\n",
      "Cockroach Labs | $53,500,000 | 11-50 | 1.07\n",
      "Genius | $56,900,000 | 11-50 | 1.07\n"
     ]
    }
   ],
   "source": [
    "data_startups = [company for company in companies if 'Data and Analytics' in company['Category Groups']]\n",
    "for company in data_startups[:20]:\n",
    "    print(company['Company Name'] + \" | \" + company['Total Funding Amount'] + \" | \" + company['Number of Employees'] + \" | \" + company['Score'])"
   ]
  },
  {
   "cell_type": "code",
   "execution_count": null,
   "metadata": {
    "collapsed": true
   },
   "outputs": [],
   "source": []
  }
 ],
 "metadata": {
  "anaconda-cloud": {},
  "kernelspec": {
   "display_name": "Python [default]",
   "language": "python",
   "name": "python3"
  },
  "language_info": {
   "codemirror_mode": {
    "name": "ipython",
    "version": 3
   },
   "file_extension": ".py",
   "mimetype": "text/x-python",
   "name": "python",
   "nbconvert_exporter": "python",
   "pygments_lexer": "ipython3",
   "version": "3.5.2"
  }
 },
 "nbformat": 4,
 "nbformat_minor": 0
}
